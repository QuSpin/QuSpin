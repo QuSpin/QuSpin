{
  "nbformat": 4,
  "nbformat_minor": 0,
  "metadata": {
    "colab": {
      "provenance": []
    },
    "kernelspec": {
      "name": "python3",
      "display_name": "Python 3"
    },
    "language_info": {
      "name": "python"
    }
  },
  "cells": [
    {
      "cell_type": "code",
      "execution_count": null,
      "metadata": {
        "id": "wbyGZhcxflUZ"
      },
      "outputs": [],
      "source": [
        "# This codebox installs miniconda for python=3.10 and then quspin=0.3.7 with omp in colab.\n",
        "\n",
        "# If you would like to avoid installing quspin every new runtime, you can copy\n",
        "# the following code to a directory in your google drive.\n",
        "\n",
        "# !cp -r /usr/local/lib/python3.10/site-packages/quspin <your-directory>\n",
        "# !cp /usr/local/lib/python3.10/site-packages/gmpy2.cpython-37m-x86_64-linux-gnu.so <your-directory>\n",
        "\n",
        "# You will then need to add <your-directory> to sys.path just like above.\n",
        "\n",
        "%%bash\n",
        "\n",
        "# install conda for python 3.10\n",
        "MINICONDA_INSTALLER_SCRIPT=Miniconda3-4.5.12-Linux-x86_64.sh\n",
        "MINICONDA_PREFIX=/usr/local\n",
        "wget https://repo.continuum.io/miniconda/$MINICONDA_INSTALLER_SCRIPT\n",
        "chmod +x $MINICONDA_INSTALLER_SCRIPT\n",
        "./$MINICONDA_INSTALLER_SCRIPT -b -f -p $MINICONDA_PREFIX\n",
        "\n",
        "# update conda\n",
        "conda install --channel defaults conda python=3.10 --yes\n",
        "conda update --channel defaults --all --yes\n",
        "\n",
        "# install quspin\n",
        "conda install -c weinbe58 quspin=0.3.7 omp --yes\n",
        "\n",
        "# check quspin installation\n",
        "import sys\n",
        "sys.path.append(\"/usr/local/lib/python3.10/site-packages\")\n",
        "import quspin\n",
        "print('quspin {} installed successfully and ready to use'.format(quspin.__version__) )"
      ]
    },
    {
      "cell_type": "code",
      "source": [
        "from quspin.basis import spin_basis_1d\n",
        "from quspin.operators import hamiltonian\n",
        "\n",
        "basis = spin_basis_1d(L=2)\n",
        "print(basis)\n",
        "\n",
        "coupl = [[1.0, 0,1],]\n",
        "\n",
        "static = [['xx',coupl],]\n",
        "\n",
        "H = hamiltonian(static, [], basis=basis)\n",
        "print(H.toarray())"
      ],
      "metadata": {
        "colab": {
          "base_uri": "https://localhost:8080/"
        },
        "id": "8TSE1ifzhAy7",
        "outputId": "65a3ed2d-1b6d-4c76-8096-f384e812884f"
      },
      "execution_count": null,
      "outputs": [
        {
          "output_type": "stream",
          "name": "stdout",
          "text": [
            "reference states: \n",
            "array index   /   Fock state   /   integer repr. \n",
            "     0.         |1 1>           3  \n",
            "     1.         |1 0>           2  \n",
            "     2.         |0 1>           1  \n",
            "     3.         |0 0>           0  \n",
            "Hermiticity check passed!\n",
            "Symmetry checks passed!\n",
            "[[0.+0.j 0.+0.j 0.+0.j 1.+0.j]\n",
            " [0.+0.j 0.+0.j 1.+0.j 0.+0.j]\n",
            " [0.+0.j 1.+0.j 0.+0.j 0.+0.j]\n",
            " [1.+0.j 0.+0.j 0.+0.j 0.+0.j]]\n"
          ]
        }
      ]
    },
    {
      "cell_type": "code",
      "source": [],
      "metadata": {
        "id": "J5FD4MvchkPC"
      },
      "execution_count": null,
      "outputs": []
    }
  ]
}