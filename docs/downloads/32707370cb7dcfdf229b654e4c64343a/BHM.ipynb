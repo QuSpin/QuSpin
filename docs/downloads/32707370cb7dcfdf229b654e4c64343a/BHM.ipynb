{
 "cells": [
  {
   "cell_type": "markdown",
   "metadata": {},
   "source": [
    "### Coding the Bose-Hubbard Hamiltonian with QuSpin\n",
    "\n",
    "The purpose of this tutorial is to teach the interested user to construct bosonic Hamiltonians using QuSpin. To this end, below we focus on the Bose-Hubbard model (BHM) of a 1d chain. The Hamiltonian is\n",
    "$$ H = -J\\sum_{j=0}^{L-1}(b^\\dagger_{j+1}b_j + \\mathrm{h.c.})-\\mu\\sum_{j=0}^{L-1} n_j + \\frac{U}{2}\\sum_{j=0}^{L-1}n_j(n_j-1)$$\n",
    "where $J$ is the hopping matrix element, $\\mu$ -- the chemical potential, and $U$ -- the interaction strength. We label the lattice sites by $j=0,\\dots,L-1$, and use periodic boundary conditions.\n",
    "\n",
    "First, we load the required packages:"
   ]
  },
  {
   "cell_type": "code",
   "execution_count": null,
   "metadata": {},
   "outputs": [],
   "source": [
    "from quspin.operators import hamiltonian # Hamiltonians and operators\n",
    "from quspin.basis import boson_basis_1d # Hilbert space boson basis\n",
    "import numpy as np # generic math functions"
   ]
  },
  {
   "cell_type": "markdown",
   "metadata": {},
   "source": [
    "Next, we define the model parameters:"
   ]
  },
  {
   "cell_type": "code",
   "execution_count": 2,
   "metadata": {},
   "outputs": [],
   "source": [
    "##### define model parameters #####\n",
    "L=6 # system size\n",
    "J=1.0 # hopping\n",
    "U=np.sqrt(2.0) # interaction\n",
    "mu=2.71 # chemical potential"
   ]
  },
  {
   "cell_type": "markdown",
   "metadata": {},
   "source": [
    "In order to construct the Hamiltonian of the BHM, we need to construct the bosonic basis. This is done with the help of the constructor `boson_basis_1d`. The first required argument is the chain length `L`. As an optional argument one can also specify the number of bosons in the chain `Nb`. We print the basis using the `print()` function."
   ]
  },
  {
   "cell_type": "code",
   "execution_count": 3,
   "metadata": {},
   "outputs": [
    {
     "name": "stdout",
     "output_type": "stream",
     "text": [
      "reference states: \n",
      "       0.  |6 0 0 0 0 0>\n",
      "       1.  |5 1 0 0 0 0>\n",
      "       2.  |5 0 1 0 0 0>\n",
      "       3.  |5 0 0 1 0 0>\n",
      "       4.  |5 0 0 0 1 0>\n",
      "       5.  |5 0 0 0 0 1>\n",
      "       6.  |4 2 0 0 0 0>\n",
      "       7.  |4 1 1 0 0 0>\n",
      "       8.  |4 1 0 1 0 0>\n",
      "       9.  |4 1 0 0 1 0>\n",
      "      10.  |4 1 0 0 0 1>\n",
      "      11.  |4 0 2 0 0 0>\n",
      "      12.  |4 0 1 1 0 0>\n",
      "      13.  |4 0 1 0 1 0>\n",
      "      14.  |4 0 1 0 0 1>\n",
      "      15.  |4 0 0 2 0 0>\n",
      "      16.  |4 0 0 1 1 0>\n",
      "      17.  |4 0 0 1 0 1>\n",
      "      18.  |4 0 0 0 2 0>\n",
      "      19.  |4 0 0 0 1 1>\n",
      "      20.  |4 0 0 0 0 2>\n",
      "      21.  |3 3 0 0 0 0>\n",
      "      22.  |3 2 1 0 0 0>\n",
      "      23.  |3 2 0 1 0 0>\n",
      "      24.  |3 2 0 0 1 0>\n",
      "                 :\n",
      "     437.  |0 0 0 4 2 0>\n",
      "     438.  |0 0 0 4 1 1>\n",
      "     439.  |0 0 0 4 0 2>\n",
      "     440.  |0 0 0 3 3 0>\n",
      "     441.  |0 0 0 3 2 1>\n",
      "     442.  |0 0 0 3 1 2>\n",
      "     443.  |0 0 0 3 0 3>\n",
      "     444.  |0 0 0 2 4 0>\n",
      "     445.  |0 0 0 2 3 1>\n",
      "     446.  |0 0 0 2 2 2>\n",
      "     447.  |0 0 0 2 1 3>\n",
      "     448.  |0 0 0 2 0 4>\n",
      "     449.  |0 0 0 1 5 0>\n",
      "     450.  |0 0 0 1 4 1>\n",
      "     451.  |0 0 0 1 3 2>\n",
      "     452.  |0 0 0 1 2 3>\n",
      "     453.  |0 0 0 1 1 4>\n",
      "     454.  |0 0 0 1 0 5>\n",
      "     455.  |0 0 0 0 6 0>\n",
      "     456.  |0 0 0 0 5 1>\n",
      "     457.  |0 0 0 0 4 2>\n",
      "     458.  |0 0 0 0 3 3>\n",
      "     459.  |0 0 0 0 2 4>\n",
      "     460.  |0 0 0 0 1 5>\n",
      "     461.  |0 0 0 0 0 6>\n"
     ]
    }
   ],
   "source": [
    "##### construct Bose-Hubbard Hamiltonian #####\n",
    "# define boson basis with 3 states per site L bosons in the lattice\n",
    "basis = boson_basis_1d(L,Nb=L) # full boson basis\n",
    "print(basis)"
   ]
  },
  {
   "cell_type": "markdown",
   "metadata": {},
   "source": [
    "If needed, we can specify the on-site bosonic Hilbert space dimension, i.e. the number of states per site, using the flag `sps=int`. This can help study larger systems of they are dilute."
   ]
  },
  {
   "cell_type": "code",
   "execution_count": 4,
   "metadata": {},
   "outputs": [
    {
     "name": "stdout",
     "output_type": "stream",
     "text": [
      "reference states: \n",
      "       0.  |2 2 2 0 0 0>\n",
      "       1.  |2 2 1 1 0 0>\n",
      "       2.  |2 2 1 0 1 0>\n",
      "       3.  |2 2 1 0 0 1>\n",
      "       4.  |2 2 0 2 0 0>\n",
      "       5.  |2 2 0 1 1 0>\n",
      "       6.  |2 2 0 1 0 1>\n",
      "       7.  |2 2 0 0 2 0>\n",
      "       8.  |2 2 0 0 1 1>\n",
      "       9.  |2 2 0 0 0 2>\n",
      "      10.  |2 1 2 1 0 0>\n",
      "      11.  |2 1 2 0 1 0>\n",
      "      12.  |2 1 2 0 0 1>\n",
      "      13.  |2 1 1 2 0 0>\n",
      "      14.  |2 1 1 1 1 0>\n",
      "      15.  |2 1 1 1 0 1>\n",
      "      16.  |2 1 1 0 2 0>\n",
      "      17.  |2 1 1 0 1 1>\n",
      "      18.  |2 1 1 0 0 2>\n",
      "      19.  |2 1 0 2 1 0>\n",
      "      20.  |2 1 0 2 0 1>\n",
      "      21.  |2 1 0 1 2 0>\n",
      "      22.  |2 1 0 1 1 1>\n",
      "      23.  |2 1 0 1 0 2>\n",
      "      24.  |2 1 0 0 2 1>\n",
      "                 :\n",
      "     116.  |0 1 2 2 0 1>\n",
      "     117.  |0 1 2 1 2 0>\n",
      "     118.  |0 1 2 1 1 1>\n",
      "     119.  |0 1 2 1 0 2>\n",
      "     120.  |0 1 2 0 2 1>\n",
      "     121.  |0 1 2 0 1 2>\n",
      "     122.  |0 1 1 2 2 0>\n",
      "     123.  |0 1 1 2 1 1>\n",
      "     124.  |0 1 1 2 0 2>\n",
      "     125.  |0 1 1 1 2 1>\n",
      "     126.  |0 1 1 1 1 2>\n",
      "     127.  |0 1 1 0 2 2>\n",
      "     128.  |0 1 0 2 2 1>\n",
      "     129.  |0 1 0 2 1 2>\n",
      "     130.  |0 1 0 1 2 2>\n",
      "     131.  |0 0 2 2 2 0>\n",
      "     132.  |0 0 2 2 1 1>\n",
      "     133.  |0 0 2 2 0 2>\n",
      "     134.  |0 0 2 1 2 1>\n",
      "     135.  |0 0 2 1 1 2>\n",
      "     136.  |0 0 2 0 2 2>\n",
      "     137.  |0 0 1 2 2 1>\n",
      "     138.  |0 0 1 2 1 2>\n",
      "     139.  |0 0 1 1 2 2>\n",
      "     140.  |0 0 0 2 2 2>\n"
     ]
    }
   ],
   "source": [
    "basis = boson_basis_1d(L,Nb=L,sps=3) # particle-conserving basis, 3 states per site\n",
    "print(basis)"
   ]
  },
  {
   "cell_type": "markdown",
   "metadata": {},
   "source": [
    "Often times, the model under consideration has underlying symmetries. For instance, translation invariance, parity (reflection symmetry), etc. QuSpin allows the user to construct Hamiltonians in symmetry-reduced subspaces. This is done using optional arguments (flags) passed to the basis constructor. \n",
    "\n",
    "For instance, if we want to construct the basis in the $k=0$ many-body momentum sector, we do this using the flag `kblock=int`. This specifies the many-body momentum of the state via $k=2\\pi/L\\times\\texttt{kblock}$.\n",
    "\n",
    "Whenever symmetries are present, the `print()` function returns one representative from which one can obtain all 'missing' states by applying the corresponding symmetry operator. It is important to note that, physically, this representative state stands for the linear combination of vectors in the class, not the state that is displayed by `print(basis)`. "
   ]
  },
  {
   "cell_type": "code",
   "execution_count": 5,
   "metadata": {},
   "outputs": [
    {
     "name": "stdout",
     "output_type": "stream",
     "text": [
      "reference states: \n",
      "      0.  |2 2 2 0 0 0>\n",
      "      1.  |2 2 1 1 0 0>\n",
      "      2.  |2 2 1 0 1 0>\n",
      "      3.  |2 2 1 0 0 1>\n",
      "      4.  |2 2 0 2 0 0>\n",
      "      5.  |2 2 0 1 1 0>\n",
      "      6.  |2 2 0 1 0 1>\n",
      "      7.  |2 2 0 0 2 0>\n",
      "      8.  |2 2 0 0 1 1>\n",
      "      9.  |2 1 2 1 0 0>\n",
      "     10.  |2 1 2 0 1 0>\n",
      "     11.  |2 1 2 0 0 1>\n",
      "     12.  |2 1 1 2 0 0>\n",
      "     13.  |2 1 1 1 1 0>\n",
      "     14.  |2 1 1 1 0 1>\n",
      "     15.  |2 1 1 0 2 0>\n",
      "     16.  |2 1 1 0 1 1>\n",
      "     17.  |2 1 0 2 0 1>\n",
      "     18.  |2 1 0 1 2 0>\n",
      "     19.  |2 1 0 1 1 1>\n",
      "     20.  |2 0 2 0 1 1>\n",
      "     21.  |2 0 1 1 1 1>\n",
      "The states printed do NOT correspond to the physical states: see review arXiv:1101.3281 for more details about reference states for symmetry-reduced blocks.\n",
      "\n"
     ]
    }
   ],
   "source": [
    "basis = boson_basis_1d(L,Nb=L,sps=3,kblock=1) # ... and zero momentum sector\n",
    "print(basis)"
   ]
  },
  {
   "cell_type": "markdown",
   "metadata": {},
   "source": [
    "Additionally, the BHM features reflection symmetry around the middle of the chain. This symmetry block-diagonalises the Hamiltonian into two blocks, corresponding to the negative and positive eigenvalue of the parity operator. The corresponding flag is `pblock=+1,-1`."
   ]
  },
  {
   "cell_type": "code",
   "execution_count": 6,
   "metadata": {},
   "outputs": [
    {
     "name": "stdout",
     "output_type": "stream",
     "text": [
      "reference states: \n",
      "      0.  |2 2 2 0 0 0>\n",
      "      1.  |2 2 1 1 0 0>\n",
      "      2.  |2 2 1 0 1 0>\n",
      "      3.  |2 2 1 0 0 1>\n",
      "      4.  |2 2 0 2 0 0>\n",
      "      5.  |2 2 0 1 1 0>\n",
      "      6.  |2 1 2 1 0 0>\n",
      "      7.  |2 1 2 0 1 0>\n",
      "      8.  |2 1 1 2 0 0>\n",
      "      9.  |2 1 1 1 1 0>\n",
      "     10.  |2 1 1 1 0 1>\n",
      "     11.  |2 1 1 0 2 0>\n",
      "     12.  |2 1 1 0 1 1>\n",
      "     13.  |2 1 0 2 1 0>\n",
      "     14.  |2 1 0 2 0 1>\n",
      "     15.  |2 1 0 1 2 0>\n",
      "     16.  |2 0 2 0 2 0>\n",
      "     17.  |1 1 1 1 1 1>\n",
      "The states printed do NOT correspond to the physical states: see review arXiv:1101.3281 for more details about reference states for symmetry-reduced blocks.\n",
      "\n"
     ]
    }
   ],
   "source": [
    "basis = boson_basis_1d(L,Nb=L,sps=3,kblock=0,pblock=1) # ... + zero momentum and positive parity\n",
    "print(basis)"
   ]
  },
  {
   "cell_type": "markdown",
   "metadata": {},
   "source": [
    "Now that we have constructed the basis in the symmetry-reduced Hilbert space, we can construct the Hamiltonian. It will be hepful to cast it in the fllowing form:\n",
    "\n",
    "$$H= -J\\sum_{j=0}^{L-1}(b^\\dagger_{j+1}b_j + \\mathrm{h.c.})-\\left(\\mu+\\frac{U}{2}\\right)\\sum_{j=0}^{L-1} n_j + \\frac{U}{2}\\sum_{j=0}^{L-1}n_jn_j $$\n",
    "\n",
    "We start by defining the site-coupling lists. Suppose we would like to define the operator $\\sum_j \\mu_j n_j$. To this, end, we can focus on a single summand first, e.g. $2.71 n_{j=3}$. The information encoded in this operator can be summarised as follows:\n",
    "\n",
    "* the coupling strength is $\\mu_{j=3}=2.71$ (site-coupling lists),\n",
    "* the operator acts on site $j=3$ (site-coupling lists),\n",
    "* the operator is the density $n$ (operator-string, static/dynamic lists)\n",
    "\n",
    "In QuSpin, the first two points are grouped together, defininging a list `[mu_j,j]=[2.71,3]`, while the type of operator we specify a bit later (see parantheses). We call this a site-couling list. Summing over multiple sites then results in a nested list of lists:"
   ]
  },
  {
   "cell_type": "code",
   "execution_count": 7,
   "metadata": {},
   "outputs": [
    {
     "name": "stdout",
     "output_type": "stream",
     "text": [
      "[[-1.0, 0, 1], [-1.0, 1, 2], [-1.0, 2, 3], [-1.0, 3, 4], [-1.0, 4, 5], [-1.0, 5, 0]]\n"
     ]
    }
   ],
   "source": [
    "# define site-coupling lists\n",
    "hop=[[-J,i,(i+1)%L] for i in range(L)] #PBC\n",
    "interact=[[0.5*U,i,i] for i in range(L)] # U/2 \\sum_j n_j n_j\n",
    "pot=[[-mu-0.5*U,i] for i in range(L)] # -(\\mu + U/2) \\sum_j j_n\n",
    "\n",
    "print(hop)\n",
    "#print(interact)\n",
    "#print(pot)"
   ]
  },
  {
   "cell_type": "markdown",
   "metadata": {},
   "source": [
    "The site coupling lists specify the sites on which the operators act, yet we need to tell QuSpin which operators are to act on these (pairs of) sites. Thus, we need the following operator strings which enter the static and dynamic lists used to define the Hamiltonian. Since the BHM is time-independent, we use an empty dynamic list"
   ]
  },
  {
   "cell_type": "code",
   "execution_count": 8,
   "metadata": {},
   "outputs": [
    {
     "name": "stdout",
     "output_type": "stream",
     "text": [
      "[['+-', [[-1.0, 0, 1], [-1.0, 1, 2], [-1.0, 2, 3], [-1.0, 3, 4], [-1.0, 4, 5], [-1.0, 5, 0]]], ['-+', [[-1.0, 0, 1], [-1.0, 1, 2], [-1.0, 2, 3], [-1.0, 3, 4], [-1.0, 4, 5], [-1.0, 5, 0]]], ['n', [[-0.7071067811865476, 0], [-0.7071067811865476, 1], [-0.7071067811865476, 2], [-0.7071067811865476, 3], [-0.7071067811865476, 4], [-0.7071067811865476, 5]]], ['nn', [[0.7071067811865476, 0, 0], [0.7071067811865476, 1, 1], [0.7071067811865476, 2, 2], [0.7071067811865476, 3, 3], [0.7071067811865476, 4, 4], [0.7071067811865476, 5, 5]]]]\n"
     ]
    }
   ],
   "source": [
    "# define static and dynamic lists\n",
    "static=[['+-',hop],['-+',hop],['n',pot],['nn',interact]]\n",
    "dynamic=[]\n",
    "\n",
    "print(static)"
   ]
  },
  {
   "cell_type": "markdown",
   "metadata": {},
   "source": [
    "Building the Hamiltonian with QuSpin is now a one-liner using the `hamiltonian` constructor"
   ]
  },
  {
   "cell_type": "code",
   "execution_count": 9,
   "metadata": {},
   "outputs": [
    {
     "name": "stdout",
     "output_type": "stream",
     "text": [
      "Hermiticity check passed!\n",
      "Symmetry checks passed!\n",
      "Particle conservation check passed!\n",
      "[[ 4.24264069e+00 -2.00000000e+00  0.00000000e+00  0.00000000e+00\n",
      "   0.00000000e+00  0.00000000e+00  0.00000000e+00  0.00000000e+00\n",
      "   0.00000000e+00  0.00000000e+00  0.00000000e+00  0.00000000e+00\n",
      "   0.00000000e+00  0.00000000e+00  0.00000000e+00  0.00000000e+00\n",
      "   0.00000000e+00  0.00000000e+00]\n",
      " [-2.00000000e+00  2.82842712e+00 -1.00000000e+00  0.00000000e+00\n",
      "  -1.41421356e+00  0.00000000e+00 -2.00000000e+00  0.00000000e+00\n",
      "   0.00000000e+00  0.00000000e+00  0.00000000e+00  0.00000000e+00\n",
      "  -2.00000000e+00  0.00000000e+00  0.00000000e+00  0.00000000e+00\n",
      "   0.00000000e+00  0.00000000e+00]\n",
      " [ 0.00000000e+00 -1.00000000e+00  2.82842712e+00 -1.41421356e+00\n",
      "   0.00000000e+00 -1.41421356e+00  0.00000000e+00 -2.82842712e+00\n",
      "   0.00000000e+00  0.00000000e+00 -1.41421356e+00  0.00000000e+00\n",
      "   0.00000000e+00  0.00000000e+00  0.00000000e+00  0.00000000e+00\n",
      "   0.00000000e+00  0.00000000e+00]\n",
      " [ 0.00000000e+00  0.00000000e+00 -1.41421356e+00  2.82842712e+00\n",
      "   0.00000000e+00  0.00000000e+00 -2.82842712e+00  0.00000000e+00\n",
      "   0.00000000e+00  0.00000000e+00  0.00000000e+00  0.00000000e+00\n",
      "   0.00000000e+00  0.00000000e+00  0.00000000e+00  0.00000000e+00\n",
      "   0.00000000e+00  0.00000000e+00]\n",
      " [ 0.00000000e+00 -1.41421356e+00  0.00000000e+00  0.00000000e+00\n",
      "   4.24264069e+00 -2.00000000e+00  0.00000000e+00  0.00000000e+00\n",
      "  -2.00000000e+00  0.00000000e+00  0.00000000e+00 -1.41421356e+00\n",
      "   0.00000000e+00  0.00000000e+00  0.00000000e+00  0.00000000e+00\n",
      "   0.00000000e+00  0.00000000e+00]\n",
      " [ 0.00000000e+00  0.00000000e+00 -1.41421356e+00  0.00000000e+00\n",
      "  -2.00000000e+00  2.82842712e+00  0.00000000e+00  0.00000000e+00\n",
      "   0.00000000e+00 -2.00000000e+00  0.00000000e+00  0.00000000e+00\n",
      "   0.00000000e+00  0.00000000e+00  0.00000000e+00  0.00000000e+00\n",
      "   0.00000000e+00  0.00000000e+00]\n",
      " [ 0.00000000e+00 -2.00000000e+00  0.00000000e+00 -2.82842712e+00\n",
      "   0.00000000e+00  0.00000000e+00  2.82842712e+00 -1.41421356e+00\n",
      "  -2.82842712e+00  0.00000000e+00 -1.41421356e+00  0.00000000e+00\n",
      "   0.00000000e+00  0.00000000e+00  0.00000000e+00  0.00000000e+00\n",
      "   0.00000000e+00  0.00000000e+00]\n",
      " [ 0.00000000e+00  0.00000000e+00 -2.82842712e+00  0.00000000e+00\n",
      "   0.00000000e+00  0.00000000e+00 -1.41421356e+00  2.82842712e+00\n",
      "   0.00000000e+00 -2.00000000e+00  0.00000000e+00  0.00000000e+00\n",
      "   0.00000000e+00  0.00000000e+00  0.00000000e+00  0.00000000e+00\n",
      "   0.00000000e+00  0.00000000e+00]\n",
      " [ 0.00000000e+00  0.00000000e+00  0.00000000e+00  0.00000000e+00\n",
      "  -2.00000000e+00  0.00000000e+00 -2.82842712e+00  0.00000000e+00\n",
      "   2.82842712e+00 -2.00000000e+00  0.00000000e+00  0.00000000e+00\n",
      "   0.00000000e+00  0.00000000e+00  0.00000000e+00  0.00000000e+00\n",
      "   0.00000000e+00  0.00000000e+00]\n",
      " [ 0.00000000e+00  0.00000000e+00  0.00000000e+00  0.00000000e+00\n",
      "   0.00000000e+00 -2.00000000e+00  0.00000000e+00 -2.00000000e+00\n",
      "  -2.00000000e+00  1.41421356e+00 -3.00000000e+00 -2.82842712e+00\n",
      "   0.00000000e+00 -2.00000000e+00  0.00000000e+00  0.00000000e+00\n",
      "   0.00000000e+00 -4.89897949e+00]\n",
      " [ 0.00000000e+00  0.00000000e+00 -1.41421356e+00  0.00000000e+00\n",
      "   0.00000000e+00  0.00000000e+00 -1.41421356e+00  0.00000000e+00\n",
      "   0.00000000e+00 -3.00000000e+00  1.41421356e+00  0.00000000e+00\n",
      "  -4.24264069e+00  0.00000000e+00 -2.00000000e+00 -2.00000000e+00\n",
      "   0.00000000e+00  0.00000000e+00]\n",
      " [ 0.00000000e+00  0.00000000e+00  0.00000000e+00  0.00000000e+00\n",
      "  -1.41421356e+00  0.00000000e+00  0.00000000e+00  0.00000000e+00\n",
      "   0.00000000e+00 -2.82842712e+00  0.00000000e+00  2.82842712e+00\n",
      "  -2.00000000e+00  0.00000000e+00 -2.82842712e+00 -1.41421356e+00\n",
      "  -3.46410162e+00  0.00000000e+00]\n",
      " [ 0.00000000e+00 -2.00000000e+00  0.00000000e+00  0.00000000e+00\n",
      "   0.00000000e+00  0.00000000e+00  0.00000000e+00  0.00000000e+00\n",
      "   0.00000000e+00  0.00000000e+00 -4.24264069e+00 -2.00000000e+00\n",
      "   1.41421356e+00  0.00000000e+00  0.00000000e+00  0.00000000e+00\n",
      "   0.00000000e+00  0.00000000e+00]\n",
      " [ 0.00000000e+00  0.00000000e+00  0.00000000e+00  0.00000000e+00\n",
      "   0.00000000e+00  0.00000000e+00  0.00000000e+00  0.00000000e+00\n",
      "   0.00000000e+00 -2.00000000e+00  0.00000000e+00  0.00000000e+00\n",
      "   0.00000000e+00  2.82842712e+00 -2.00000000e+00 -4.00000000e+00\n",
      "   0.00000000e+00  0.00000000e+00]\n",
      " [ 0.00000000e+00  0.00000000e+00  0.00000000e+00  0.00000000e+00\n",
      "   0.00000000e+00  0.00000000e+00  0.00000000e+00  0.00000000e+00\n",
      "   0.00000000e+00  0.00000000e+00 -2.00000000e+00 -2.82842712e+00\n",
      "   0.00000000e+00 -2.00000000e+00  2.82842712e+00  0.00000000e+00\n",
      "   0.00000000e+00  0.00000000e+00]\n",
      " [ 0.00000000e+00  0.00000000e+00  0.00000000e+00  0.00000000e+00\n",
      "   0.00000000e+00  0.00000000e+00  0.00000000e+00  0.00000000e+00\n",
      "   0.00000000e+00  0.00000000e+00 -2.00000000e+00 -1.41421356e+00\n",
      "   0.00000000e+00 -4.00000000e+00  0.00000000e+00  2.82842712e+00\n",
      "   0.00000000e+00  0.00000000e+00]\n",
      " [ 0.00000000e+00  0.00000000e+00  0.00000000e+00  0.00000000e+00\n",
      "   0.00000000e+00  0.00000000e+00  0.00000000e+00  0.00000000e+00\n",
      "   0.00000000e+00  0.00000000e+00  0.00000000e+00 -3.46410162e+00\n",
      "   0.00000000e+00  0.00000000e+00  0.00000000e+00  0.00000000e+00\n",
      "   4.24264069e+00  0.00000000e+00]\n",
      " [ 0.00000000e+00  0.00000000e+00  0.00000000e+00  0.00000000e+00\n",
      "   0.00000000e+00  0.00000000e+00  0.00000000e+00  0.00000000e+00\n",
      "   0.00000000e+00 -4.89897949e+00  0.00000000e+00  0.00000000e+00\n",
      "   0.00000000e+00  0.00000000e+00  0.00000000e+00  0.00000000e+00\n",
      "   0.00000000e+00 -6.66133815e-16]]\n"
     ]
    }
   ],
   "source": [
    "# build Hamiltonian\n",
    "H=hamiltonian(static,dynamic,basis=basis,dtype=np.float64)\n",
    "\n",
    "print(H.todense())"
   ]
  },
  {
   "cell_type": "markdown",
   "metadata": {},
   "source": [
    "when the Hamiltonian is constructed, we see three messages saying that it passes three type of symmetries. QuSpin does checks under the hood on the `static` and `dynamic` lists to determine if they satisfy the requested symmetries in the `basis`. They can be disabled by parsing the following flags to the `hamiltonian` constructor: `check_pcon=False`, `check_symm=False` and `check_herm=False`.\n",
    "\n",
    "We can now diagonalise `H`, and e.g. calculate the entanglement entropy of the ground state."
   ]
  },
  {
   "cell_type": "code",
   "execution_count": 10,
   "metadata": {},
   "outputs": [
    {
     "name": "stdout",
     "output_type": "stream",
     "text": [
      "eigenenergies: [-7.99770126 -3.371967   -2.69891138 -0.92278606 -0.4865458   0.25457733\n",
      "  1.01974122  1.55460719  2.72081364  3.00993842  4.55888621  4.92864042\n",
      "  5.48809307  5.89976351  6.52449767  6.96579982  8.54322063 12.0925935 ]\n",
      "GS entanglement per site is 0.409\n"
     ]
    }
   ],
   "source": [
    "# calculate eigensystem\n",
    "E,V=H.eigh()\n",
    "E_GS,V_GS=H.eigsh(k=2,which='SA',maxiter=1E10) # only GS\n",
    "print(\"eigenenergies:\", E)\n",
    "#print(\"GS energy is %0.3f\" %(E_GS[0]))\n",
    "# calculate entanglement entropy per site of GS\n",
    "subsystem=[i for i in range(L//2)] # sites contained in subsystem\n",
    "Sent=basis.ent_entropy(V[:,0],sub_sys_A=subsystem,density=True)['Sent_A']\n",
    "print(\"GS entanglement per site is %0.3f\" %(Sent))\n"
   ]
  },
  {
   "cell_type": "code",
   "execution_count": 11,
   "metadata": {},
   "outputs": [
    {
     "name": "stdout",
     "output_type": "stream",
     "text": [
      "(18,) (729, 1)\n"
     ]
    }
   ],
   "source": [
    "psi_k=V[:,0]\n",
    "psi_Fock=basis.get_vec(psi_k)\n",
    "\n",
    "print(psi_k.shape, psi_Fock.shape)"
   ]
  },
  {
   "cell_type": "code",
   "execution_count": null,
   "metadata": {},
   "outputs": [],
   "source": []
  }
 ],
 "metadata": {
  "anaconda-cloud": {},
  "kernelspec": {
   "display_name": "Python 3",
   "language": "python",
   "name": "python3"
  },
  "language_info": {
   "codemirror_mode": {
    "name": "ipython",
    "version": 3
   },
   "file_extension": ".py",
   "mimetype": "text/x-python",
   "name": "python",
   "nbconvert_exporter": "python",
   "pygments_lexer": "ipython3",
   "version": "3.7.1"
  }
 },
 "nbformat": 4,
 "nbformat_minor": 1
}
